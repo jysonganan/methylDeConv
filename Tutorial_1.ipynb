{
  "nbformat": 4,
  "nbformat_minor": 0,
  "metadata": {
    "colab": {
      "name": "Tutorial_1.ipynb",
      "provenance": [],
      "authorship_tag": "ABX9TyNJs6u2aWQy4RzfGFpSEfEA",
      "include_colab_link": true
    },
    "kernelspec": {
      "display_name": "R",
      "name": "ir"
    },
    "language_info": {
      "name": "R"
    }
  },
  "cells": [
    {
      "cell_type": "markdown",
      "metadata": {
        "id": "view-in-github",
        "colab_type": "text"
      },
      "source": [
        "<a href=\"https://colab.research.google.com/github/jysonganan/methylDeConv/blob/master/Tutorial_1.ipynb\" target=\"_parent\"><img src=\"https://colab.research.google.com/assets/colab-badge.svg\" alt=\"Open In Colab\"/></a>"
      ]
    },
    {
      "cell_type": "markdown",
      "metadata": {
        "id": "Ss6QMcQC3GT3"
      },
      "source": [
        "# **Example of deconvolution with R package methylDeconv**"
      ]
    },
    {
      "cell_type": "markdown",
      "metadata": {
        "id": "DXlrNOPVyeVi"
      },
      "source": [
        "# (1) Install R package **methylDeConv**"
      ]
    },
    {
      "cell_type": "code",
      "metadata": {
        "colab": {
          "base_uri": "https://localhost:8080/"
        },
        "id": "b74u8OCIRYqB",
        "outputId": "800a7bde-5501-4d7c-d668-3e6c6dba4424"
      },
      "source": [
        "devtools::install_github(\"jysonganan/methylDeConv\")"
      ],
      "execution_count": 1,
      "outputs": [
        {
          "output_type": "stream",
          "text": [
            "Downloading GitHub repo jysonganan/methylDeConv@HEAD\n",
            "\n"
          ],
          "name": "stderr"
        },
        {
          "output_type": "stream",
          "text": [
            "\n",
            "\u001b[32m✔\u001b[39m  \u001b[90mchecking for file ‘/tmp/RtmpxRWezO/remotesd21068b392f9/jysonganan-methylDeConv-8c81b1e/DESCRIPTION’\u001b[39m\u001b[36m\u001b[39m\n",
            "\u001b[90m─\u001b[39m\u001b[90m  \u001b[39m\u001b[90mpreparing ‘methylDeConv’:\u001b[39m\u001b[36m\u001b[39m\n",
            "\u001b[32m✔\u001b[39m  \u001b[90mchecking DESCRIPTION meta-information\u001b[39m\u001b[36m\u001b[39m\n",
            "\u001b[90m─\u001b[39m\u001b[90m  \u001b[39m\u001b[90mchecking for LF line-endings in source and make files and shell scripts\u001b[39m\u001b[36m\u001b[39m\n",
            "\u001b[90m─\u001b[39m\u001b[90m  \u001b[39m\u001b[90mchecking for empty or unneeded directories\u001b[39m\u001b[36m\u001b[39m\n",
            "   Omitted ‘LazyData’ from DESCRIPTION\n",
            "\u001b[90m─\u001b[39m\u001b[90m  \u001b[39m\u001b[90mbuilding ‘methylDeConv_0.1.1.tar.gz’\u001b[39m\u001b[36m\u001b[39m\n",
            "   \n"
          ],
          "name": "stdout"
        },
        {
          "output_type": "stream",
          "text": [
            "Installing package into ‘/usr/local/lib/R/site-library’\n",
            "(as ‘lib’ is unspecified)\n",
            "\n"
          ],
          "name": "stderr"
        }
      ]
    },
    {
      "cell_type": "code",
      "metadata": {
        "id": "uIEdT4X9Rp19"
      },
      "source": [
        "library(methylDeConv)"
      ],
      "execution_count": 2,
      "outputs": []
    },
    {
      "cell_type": "markdown",
      "metadata": {
        "id": "6gRSvofTyw5k"
      },
      "source": [
        "# (2) Benchmark dataset 1\n",
        "\n",
        "(if IlluminaHumanMethylationEPICmanifest not installed, install it first to load the Benchmark dataset 1)"
      ]
    },
    {
      "cell_type": "code",
      "metadata": {
        "colab": {
          "base_uri": "https://localhost:8080/"
        },
        "id": "mWuELUoUk2Cr",
        "outputId": "0dfa250a-39c8-4241-9125-6028dfee1a5d"
      },
      "source": [
        "if (!requireNamespace(\"BiocManager\", quietly = TRUE))\n",
        "    install.packages(\"BiocManager\")\n",
        "\n",
        "BiocManager::install(\"IlluminaHumanMethylationEPICmanifest\")"
      ],
      "execution_count": 3,
      "outputs": [
        {
          "output_type": "stream",
          "text": [
            "'getOption(\"repos\")' replaces Bioconductor standard repositories, see\n",
            "'?repositories' for details\n",
            "\n",
            "replacement repositories:\n",
            "    CRAN: https://cran.rstudio.com\n",
            "\n",
            "\n",
            "Bioconductor version 3.13 (BiocManager 1.30.16), R 4.1.0 (2021-05-18)\n",
            "\n",
            "Warning message:\n",
            "“package(s) not installed when version(s) same as current; use `force = TRUE` to\n",
            "  re-install: 'IlluminaHumanMethylationEPICmanifest'”\n",
            "Old packages: 'broom', 'dplyr', 'ggplot2', 'openssl', 'rmarkdown', 'testthat',\n",
            "  'xfun'\n",
            "\n"
          ],
          "name": "stderr"
        }
      ]
    },
    {
      "cell_type": "code",
      "metadata": {
        "colab": {
          "base_uri": "https://localhost:8080/",
          "height": 1000
        },
        "id": "xnOYN6S9j1Sp",
        "outputId": "bf6b1130-d1e2-4ecd-b472-1959b863a5ab"
      },
      "source": [
        "library(ExperimentHub)\n",
        "hub <- ExperimentHub()\n",
        "query(hub, \"FlowSorted.Blood.EPIC\")\n",
        "FlowSorted.Blood.EPIC <- hub[[\"EH1136\"]]\n",
        "annot <- as.data.frame(colData(FlowSorted.Blood.EPIC))\n",
        "benchmark <- which(annot$CellType == \"MIX\")\n",
        "tmp <- getBeta(preprocessNoob(FlowSorted.Blood.EPIC, dyeMethod = \"single\"))\n",
        "benchmark_betamatrix <- tmp[,rownames(annot)[benchmark]]\n",
        "benchmark_trueprop <- annot[benchmark, c(\"Bcell\", \"CD4T\", \"CD8T\", \"Mono\", \"Neu\", \"NK\")]"
      ],
      "execution_count": 4,
      "outputs": [
        {
          "output_type": "stream",
          "text": [
            "Loading required package: BiocGenerics\n",
            "\n",
            "Loading required package: parallel\n",
            "\n",
            "\n",
            "Attaching package: ‘BiocGenerics’\n",
            "\n",
            "\n",
            "The following objects are masked from ‘package:parallel’:\n",
            "\n",
            "    clusterApply, clusterApplyLB, clusterCall, clusterEvalQ,\n",
            "    clusterExport, clusterMap, parApply, parCapply, parLapply,\n",
            "    parLapplyLB, parRapply, parSapply, parSapplyLB\n",
            "\n",
            "\n",
            "The following objects are masked from ‘package:stats’:\n",
            "\n",
            "    IQR, mad, sd, var, xtabs\n",
            "\n",
            "\n",
            "The following objects are masked from ‘package:base’:\n",
            "\n",
            "    anyDuplicated, append, as.data.frame, basename, cbind, colnames,\n",
            "    dirname, do.call, duplicated, eval, evalq, Filter, Find, get, grep,\n",
            "    grepl, intersect, is.unsorted, lapply, Map, mapply, match, mget,\n",
            "    order, paste, pmax, pmax.int, pmin, pmin.int, Position, rank,\n",
            "    rbind, Reduce, rownames, sapply, setdiff, sort, table, tapply,\n",
            "    union, unique, unsplit, which.max, which.min\n",
            "\n",
            "\n",
            "Loading required package: AnnotationHub\n",
            "\n",
            "Loading required package: BiocFileCache\n",
            "\n",
            "Loading required package: dbplyr\n",
            "\n",
            "snapshotDate(): 2021-05-18\n",
            "\n"
          ],
          "name": "stderr"
        },
        {
          "output_type": "display_data",
          "data": {
            "text/plain": [
              "ExperimentHub with 1 record\n",
              "# snapshotDate(): 2021-05-18\n",
              "# names(): EH1136\n",
              "# package(): FlowSorted.Blood.EPIC\n",
              "# $dataprovider: GEO\n",
              "# $species: Homo sapiens\n",
              "# $rdataclass: RGChannelSet\n",
              "# $rdatadateadded: 2018-04-20\n",
              "# $title: FlowSorted.Blood.EPIC: Illumina Human Methylation data from EPIC o...\n",
              "# $description: The FlowSorted.Blood.EPIC package contains Illumina HumanMet...\n",
              "# $taxonomyid: 9606\n",
              "# $genome: hg19\n",
              "# $sourcetype: tar.gz\n",
              "# $sourceurl: https://www.ncbi.nlm.nih.gov/geo/query/acc.cgi?acc=GSE110554\n",
              "# $sourcesize: NA\n",
              "# $tags: c(\"ExperimentData\", \"Homo_sapiens_Data\", \"Tissue\",\n",
              "#   \"MicroarrayData\", \"Genome\", \"TissueMicroarrayData\",\n",
              "#   \"MethylationArrayData\") \n",
              "# retrieve record with 'object[[\"EH1136\"]]' "
            ]
          },
          "metadata": {
            "tags": []
          }
        },
        {
          "output_type": "stream",
          "text": [
            "see ?FlowSorted.Blood.EPIC and browseVignettes('FlowSorted.Blood.EPIC') for documentation\n",
            "\n",
            "loading from cache\n",
            "\n",
            "Loading required package: IlluminaHumanMethylationEPICmanifest\n",
            "\n"
          ],
          "name": "stderr"
        }
      ]
    },
    {
      "cell_type": "code",
      "metadata": {
        "colab": {
          "base_uri": "https://localhost:8080/",
          "height": 34
        },
        "id": "McaaeboZkO1L",
        "outputId": "ae4e4b94-e598-4593-8090-1c0684c1a4f3"
      },
      "source": [
        "dim(benchmark_betamatrix)"
      ],
      "execution_count": 5,
      "outputs": [
        {
          "output_type": "display_data",
          "data": {
            "text/plain": [
              "[1] 866091     12"
            ],
            "text/latex": "\\begin{enumerate*}\n\\item 866091\n\\item 12\n\\end{enumerate*}\n",
            "text/markdown": "1. 866091\n2. 12\n\n\n",
            "text/html": [
              "<style>\n",
              ".list-inline {list-style: none; margin:0; padding: 0}\n",
              ".list-inline>li {display: inline-block}\n",
              ".list-inline>li:not(:last-child)::after {content: \"\\00b7\"; padding: 0 .5ex}\n",
              "</style>\n",
              "<ol class=list-inline><li>866091</li><li>12</li></ol>\n"
            ]
          },
          "metadata": {
            "tags": []
          }
        }
      ]
    },
    {
      "cell_type": "code",
      "metadata": {
        "colab": {
          "base_uri": "https://localhost:8080/",
          "height": 272
        },
        "id": "sTM2W1m6kmec",
        "outputId": "548f6143-5761-4001-8618-3399f38e906d"
      },
      "source": [
        "head(benchmark_betamatrix)"
      ],
      "execution_count": 6,
      "outputs": [
        {
          "output_type": "display_data",
          "data": {
            "text/plain": [
              "           201868590193_R01C01 201868590243_R02C01 201868590267_R01C01\n",
              "cg18478105 0.01702453          0.01574861          0.01423329         \n",
              "cg09835024 0.02604445          0.02970111          0.02595605         \n",
              "cg14361672 0.87310430          0.87221265          0.83411392         \n",
              "cg01763666 0.79525434          0.84353888          0.83622186         \n",
              "cg12950382 0.91484448          0.93449426          0.92180859         \n",
              "cg02115394 0.05452384          0.05352603          0.05283190         \n",
              "           201868590267_R05C01 201869680008_R01C01 201869680008_R03C01\n",
              "cg18478105 0.01388660          0.01650928          0.01472219         \n",
              "cg09835024 0.02511782          0.02702993          0.02604845         \n",
              "cg14361672 0.89547765          0.93390651          0.87356041         \n",
              "cg01763666 0.83862474          0.70936470          0.85425543         \n",
              "cg12950382 0.94433269          0.92341113          0.95121491         \n",
              "cg02115394 0.05644999          0.05784972          0.06438007         \n",
              "           201869680008_R06C01 201869680030_R03C01 201869680030_R07C01\n",
              "cg18478105 0.01314978          0.01461698          0.01427312         \n",
              "cg09835024 0.02902573          0.03026829          0.02914651         \n",
              "cg14361672 0.91061750          0.87034965          0.88786205         \n",
              "cg01763666 0.79649352          0.83779752          0.86279212         \n",
              "cg12950382 0.93244840          0.93499774          0.94431952         \n",
              "cg02115394 0.04819230          0.05439797          0.04933913         \n",
              "           201870610056_R01C01 201870610056_R03C01 201870610111_R03C01\n",
              "cg18478105 0.01453124          0.01305018          0.01303359         \n",
              "cg09835024 0.02681398          0.02371103          0.02822073         \n",
              "cg14361672 0.91925110          0.94087679          0.92954141         \n",
              "cg01763666 0.76256293          0.79781115          0.88292990         \n",
              "cg12950382 0.92468989          0.93745606          0.93050688         \n",
              "cg02115394 0.05658344          0.06316266          0.05064063         "
            ],
            "text/latex": "A matrix: 6 × 12 of type dbl\n\\begin{tabular}{r|llllllllllll}\n  & 201868590193\\_R01C01 & 201868590243\\_R02C01 & 201868590267\\_R01C01 & 201868590267\\_R05C01 & 201869680008\\_R01C01 & 201869680008\\_R03C01 & 201869680008\\_R06C01 & 201869680030\\_R03C01 & 201869680030\\_R07C01 & 201870610056\\_R01C01 & 201870610056\\_R03C01 & 201870610111\\_R03C01\\\\\n\\hline\n\tcg18478105 & 0.01702453 & 0.01574861 & 0.01423329 & 0.01388660 & 0.01650928 & 0.01472219 & 0.01314978 & 0.01461698 & 0.01427312 & 0.01453124 & 0.01305018 & 0.01303359\\\\\n\tcg09835024 & 0.02604445 & 0.02970111 & 0.02595605 & 0.02511782 & 0.02702993 & 0.02604845 & 0.02902573 & 0.03026829 & 0.02914651 & 0.02681398 & 0.02371103 & 0.02822073\\\\\n\tcg14361672 & 0.87310430 & 0.87221265 & 0.83411392 & 0.89547765 & 0.93390651 & 0.87356041 & 0.91061750 & 0.87034965 & 0.88786205 & 0.91925110 & 0.94087679 & 0.92954141\\\\\n\tcg01763666 & 0.79525434 & 0.84353888 & 0.83622186 & 0.83862474 & 0.70936470 & 0.85425543 & 0.79649352 & 0.83779752 & 0.86279212 & 0.76256293 & 0.79781115 & 0.88292990\\\\\n\tcg12950382 & 0.91484448 & 0.93449426 & 0.92180859 & 0.94433269 & 0.92341113 & 0.95121491 & 0.93244840 & 0.93499774 & 0.94431952 & 0.92468989 & 0.93745606 & 0.93050688\\\\\n\tcg02115394 & 0.05452384 & 0.05352603 & 0.05283190 & 0.05644999 & 0.05784972 & 0.06438007 & 0.04819230 & 0.05439797 & 0.04933913 & 0.05658344 & 0.06316266 & 0.05064063\\\\\n\\end{tabular}\n",
            "text/markdown": "\nA matrix: 6 × 12 of type dbl\n\n| <!--/--> | 201868590193_R01C01 | 201868590243_R02C01 | 201868590267_R01C01 | 201868590267_R05C01 | 201869680008_R01C01 | 201869680008_R03C01 | 201869680008_R06C01 | 201869680030_R03C01 | 201869680030_R07C01 | 201870610056_R01C01 | 201870610056_R03C01 | 201870610111_R03C01 |\n|---|---|---|---|---|---|---|---|---|---|---|---|---|\n| cg18478105 | 0.01702453 | 0.01574861 | 0.01423329 | 0.01388660 | 0.01650928 | 0.01472219 | 0.01314978 | 0.01461698 | 0.01427312 | 0.01453124 | 0.01305018 | 0.01303359 |\n| cg09835024 | 0.02604445 | 0.02970111 | 0.02595605 | 0.02511782 | 0.02702993 | 0.02604845 | 0.02902573 | 0.03026829 | 0.02914651 | 0.02681398 | 0.02371103 | 0.02822073 |\n| cg14361672 | 0.87310430 | 0.87221265 | 0.83411392 | 0.89547765 | 0.93390651 | 0.87356041 | 0.91061750 | 0.87034965 | 0.88786205 | 0.91925110 | 0.94087679 | 0.92954141 |\n| cg01763666 | 0.79525434 | 0.84353888 | 0.83622186 | 0.83862474 | 0.70936470 | 0.85425543 | 0.79649352 | 0.83779752 | 0.86279212 | 0.76256293 | 0.79781115 | 0.88292990 |\n| cg12950382 | 0.91484448 | 0.93449426 | 0.92180859 | 0.94433269 | 0.92341113 | 0.95121491 | 0.93244840 | 0.93499774 | 0.94431952 | 0.92468989 | 0.93745606 | 0.93050688 |\n| cg02115394 | 0.05452384 | 0.05352603 | 0.05283190 | 0.05644999 | 0.05784972 | 0.06438007 | 0.04819230 | 0.05439797 | 0.04933913 | 0.05658344 | 0.06316266 | 0.05064063 |\n\n",
            "text/html": [
              "<table class=\"dataframe\">\n",
              "<caption>A matrix: 6 × 12 of type dbl</caption>\n",
              "<thead>\n",
              "\t<tr><th></th><th scope=col>201868590193_R01C01</th><th scope=col>201868590243_R02C01</th><th scope=col>201868590267_R01C01</th><th scope=col>201868590267_R05C01</th><th scope=col>201869680008_R01C01</th><th scope=col>201869680008_R03C01</th><th scope=col>201869680008_R06C01</th><th scope=col>201869680030_R03C01</th><th scope=col>201869680030_R07C01</th><th scope=col>201870610056_R01C01</th><th scope=col>201870610056_R03C01</th><th scope=col>201870610111_R03C01</th></tr>\n",
              "</thead>\n",
              "<tbody>\n",
              "\t<tr><th scope=row>cg18478105</th><td>0.01702453</td><td>0.01574861</td><td>0.01423329</td><td>0.01388660</td><td>0.01650928</td><td>0.01472219</td><td>0.01314978</td><td>0.01461698</td><td>0.01427312</td><td>0.01453124</td><td>0.01305018</td><td>0.01303359</td></tr>\n",
              "\t<tr><th scope=row>cg09835024</th><td>0.02604445</td><td>0.02970111</td><td>0.02595605</td><td>0.02511782</td><td>0.02702993</td><td>0.02604845</td><td>0.02902573</td><td>0.03026829</td><td>0.02914651</td><td>0.02681398</td><td>0.02371103</td><td>0.02822073</td></tr>\n",
              "\t<tr><th scope=row>cg14361672</th><td>0.87310430</td><td>0.87221265</td><td>0.83411392</td><td>0.89547765</td><td>0.93390651</td><td>0.87356041</td><td>0.91061750</td><td>0.87034965</td><td>0.88786205</td><td>0.91925110</td><td>0.94087679</td><td>0.92954141</td></tr>\n",
              "\t<tr><th scope=row>cg01763666</th><td>0.79525434</td><td>0.84353888</td><td>0.83622186</td><td>0.83862474</td><td>0.70936470</td><td>0.85425543</td><td>0.79649352</td><td>0.83779752</td><td>0.86279212</td><td>0.76256293</td><td>0.79781115</td><td>0.88292990</td></tr>\n",
              "\t<tr><th scope=row>cg12950382</th><td>0.91484448</td><td>0.93449426</td><td>0.92180859</td><td>0.94433269</td><td>0.92341113</td><td>0.95121491</td><td>0.93244840</td><td>0.93499774</td><td>0.94431952</td><td>0.92468989</td><td>0.93745606</td><td>0.93050688</td></tr>\n",
              "\t<tr><th scope=row>cg02115394</th><td>0.05452384</td><td>0.05352603</td><td>0.05283190</td><td>0.05644999</td><td>0.05784972</td><td>0.06438007</td><td>0.04819230</td><td>0.05439797</td><td>0.04933913</td><td>0.05658344</td><td>0.06316266</td><td>0.05064063</td></tr>\n",
              "</tbody>\n",
              "</table>\n"
            ]
          },
          "metadata": {
            "tags": []
          }
        }
      ]
    },
    {
      "cell_type": "markdown",
      "metadata": {
        "id": "ZUyTbatAzc8Z"
      },
      "source": [
        "# (3) build reference library/matrix \n",
        "The reference matrix only contain 6 immune cell types; \n",
        "\n",
        "The reference matrix is for methylation EPIC arrays."
      ]
    },
    {
      "cell_type": "code",
      "metadata": {
        "colab": {
          "base_uri": "https://localhost:8080/"
        },
        "id": "2OKiTQ4HpOX9",
        "outputId": "2c275ed8-950d-4dba-ff5e-2bc3ed41a053"
      },
      "source": [
        "reference_EPIC <- build_reference_EPIC(extend = FALSE)\n",
        "compTable_EPIC <- ref_compTable(reference_EPIC$ref_betamatrix, reference_EPIC$ref_phenotype)\n",
        "compTable_EPIC <- compTable_EPIC[,3:8]"
      ],
      "execution_count": 7,
      "outputs": [
        {
          "output_type": "stream",
          "text": [
            "snapshotDate(): 2021-05-18\n",
            "\n",
            "see ?FlowSorted.Blood.EPIC and browseVignettes('FlowSorted.Blood.EPIC') for documentation\n",
            "\n",
            "loading from cache\n",
            "\n"
          ],
          "name": "stderr"
        }
      ]
    },
    {
      "cell_type": "markdown",
      "metadata": {
        "id": "gY5dTQqKzzyy"
      },
      "source": [
        "The average reference profiles for each cell type."
      ]
    },
    {
      "cell_type": "code",
      "metadata": {
        "colab": {
          "base_uri": "https://localhost:8080/",
          "height": 283
        },
        "id": "0Um4JmifpYjt",
        "outputId": "a8445901-4c41-40c4-cbcc-e0cdbabd6952"
      },
      "source": [
        "head(compTable_EPIC)"
      ],
      "execution_count": 8,
      "outputs": [
        {
          "output_type": "display_data",
          "data": {
            "text/plain": [
              "           Bcell      CD4T       CD8T       Mono       Neu        NK        \n",
              "cg18478105 0.01441151 0.01554746 0.01462471 0.01373098 0.01442258 0.01433282\n",
              "cg09835024 0.03098349 0.03214936 0.03153552 0.03361905 0.03322739 0.02888023\n",
              "cg14361672 0.95039413 0.92761772 0.95167270 0.94084677 0.83567751 0.94732244\n",
              "cg01763666 0.93013417 0.62732184 0.62612835 0.94635067 0.92667248 0.68928340\n",
              "cg12950382 0.92683978 0.93809369 0.93350899 0.93977310 0.92799543 0.92948944\n",
              "cg02115394 0.06786865 0.07638789 0.06621879 0.06846221 0.04847582 0.05070331"
            ],
            "text/latex": "A data.frame: 6 × 6\n\\begin{tabular}{r|llllll}\n  & Bcell & CD4T & CD8T & Mono & Neu & NK\\\\\n  & <dbl> & <dbl> & <dbl> & <dbl> & <dbl> & <dbl>\\\\\n\\hline\n\tcg18478105 & 0.01441151 & 0.01554746 & 0.01462471 & 0.01373098 & 0.01442258 & 0.01433282\\\\\n\tcg09835024 & 0.03098349 & 0.03214936 & 0.03153552 & 0.03361905 & 0.03322739 & 0.02888023\\\\\n\tcg14361672 & 0.95039413 & 0.92761772 & 0.95167270 & 0.94084677 & 0.83567751 & 0.94732244\\\\\n\tcg01763666 & 0.93013417 & 0.62732184 & 0.62612835 & 0.94635067 & 0.92667248 & 0.68928340\\\\\n\tcg12950382 & 0.92683978 & 0.93809369 & 0.93350899 & 0.93977310 & 0.92799543 & 0.92948944\\\\\n\tcg02115394 & 0.06786865 & 0.07638789 & 0.06621879 & 0.06846221 & 0.04847582 & 0.05070331\\\\\n\\end{tabular}\n",
            "text/markdown": "\nA data.frame: 6 × 6\n\n| <!--/--> | Bcell &lt;dbl&gt; | CD4T &lt;dbl&gt; | CD8T &lt;dbl&gt; | Mono &lt;dbl&gt; | Neu &lt;dbl&gt; | NK &lt;dbl&gt; |\n|---|---|---|---|---|---|---|\n| cg18478105 | 0.01441151 | 0.01554746 | 0.01462471 | 0.01373098 | 0.01442258 | 0.01433282 |\n| cg09835024 | 0.03098349 | 0.03214936 | 0.03153552 | 0.03361905 | 0.03322739 | 0.02888023 |\n| cg14361672 | 0.95039413 | 0.92761772 | 0.95167270 | 0.94084677 | 0.83567751 | 0.94732244 |\n| cg01763666 | 0.93013417 | 0.62732184 | 0.62612835 | 0.94635067 | 0.92667248 | 0.68928340 |\n| cg12950382 | 0.92683978 | 0.93809369 | 0.93350899 | 0.93977310 | 0.92799543 | 0.92948944 |\n| cg02115394 | 0.06786865 | 0.07638789 | 0.06621879 | 0.06846221 | 0.04847582 | 0.05070331 |\n\n",
            "text/html": [
              "<table class=\"dataframe\">\n",
              "<caption>A data.frame: 6 × 6</caption>\n",
              "<thead>\n",
              "\t<tr><th></th><th scope=col>Bcell</th><th scope=col>CD4T</th><th scope=col>CD8T</th><th scope=col>Mono</th><th scope=col>Neu</th><th scope=col>NK</th></tr>\n",
              "\t<tr><th></th><th scope=col>&lt;dbl&gt;</th><th scope=col>&lt;dbl&gt;</th><th scope=col>&lt;dbl&gt;</th><th scope=col>&lt;dbl&gt;</th><th scope=col>&lt;dbl&gt;</th><th scope=col>&lt;dbl&gt;</th></tr>\n",
              "</thead>\n",
              "<tbody>\n",
              "\t<tr><th scope=row>cg18478105</th><td>0.01441151</td><td>0.01554746</td><td>0.01462471</td><td>0.01373098</td><td>0.01442258</td><td>0.01433282</td></tr>\n",
              "\t<tr><th scope=row>cg09835024</th><td>0.03098349</td><td>0.03214936</td><td>0.03153552</td><td>0.03361905</td><td>0.03322739</td><td>0.02888023</td></tr>\n",
              "\t<tr><th scope=row>cg14361672</th><td>0.95039413</td><td>0.92761772</td><td>0.95167270</td><td>0.94084677</td><td>0.83567751</td><td>0.94732244</td></tr>\n",
              "\t<tr><th scope=row>cg01763666</th><td>0.93013417</td><td>0.62732184</td><td>0.62612835</td><td>0.94635067</td><td>0.92667248</td><td>0.68928340</td></tr>\n",
              "\t<tr><th scope=row>cg12950382</th><td>0.92683978</td><td>0.93809369</td><td>0.93350899</td><td>0.93977310</td><td>0.92799543</td><td>0.92948944</td></tr>\n",
              "\t<tr><th scope=row>cg02115394</th><td>0.06786865</td><td>0.07638789</td><td>0.06621879</td><td>0.06846221</td><td>0.04847582</td><td>0.05070331</td></tr>\n",
              "</tbody>\n",
              "</table>\n"
            ]
          },
          "metadata": {
            "tags": []
          }
        }
      ]
    },
    {
      "cell_type": "markdown",
      "metadata": {
        "id": "6HQc7g7b0lwz"
      },
      "source": [
        "# (4) cell-type specific feature selection\n"
      ]
    },
    {
      "cell_type": "markdown",
      "metadata": {
        "id": "FvWItlHS0zWW"
      },
      "source": [
        "\n",
        "\n",
        "\n",
        "\n",
        "*   **OneVsAllttest** \n",
        "    \n",
        "    One-vs-All t test feature selection\n",
        "\n",
        "\n"
      ]
    },
    {
      "cell_type": "code",
      "metadata": {
        "id": "xyU0ENH7qBkT"
      },
      "source": [
        "set.seed(2)\n",
        "probe_1 <- ref_probe_selection_oneVsAllttest(reference_EPIC$ref_betamatrix, reference_EPIC$ref_phenotype)"
      ],
      "execution_count": 9,
      "outputs": []
    },
    {
      "cell_type": "markdown",
      "metadata": {
        "id": "GEwhKhjF1Hjb"
      },
      "source": [
        "\n",
        "\n",
        "*   **glmnetpreselect** \n",
        "    \n",
        "    Two stages selection: 1. select top features from one-vs-all t test; 2. select the non-zero features with multi-class elastic-net modeling\n",
        "\n",
        "\n"
      ]
    },
    {
      "cell_type": "code",
      "metadata": {
        "colab": {
          "base_uri": "https://localhost:8080/"
        },
        "id": "Nl7yL_3iqbFX",
        "outputId": "dcc733d1-8f4f-4eb8-8ff4-e0f94e1e908e"
      },
      "source": [
        "set.seed(2)\n",
        "probe_6 <- ref_probe_selection_twoStage(reference_EPIC$ref_betamatrix, reference_EPIC$ref_phenotype,\n",
        "                                        preselect = 300, ml_model = \"elastic net\")"
      ],
      "execution_count": 10,
      "outputs": [
        {
          "output_type": "stream",
          "text": [
            "Loading required package: dplyr\n",
            "\n",
            "\n",
            "Attaching package: ‘dplyr’\n",
            "\n",
            "\n",
            "The following object is masked from ‘package:nlme’:\n",
            "\n",
            "    collapse\n",
            "\n",
            "\n",
            "The following object is masked from ‘package:minfi’:\n",
            "\n",
            "    combine\n",
            "\n",
            "\n",
            "The following objects are masked from ‘package:Biostrings’:\n",
            "\n",
            "    collapse, intersect, setdiff, setequal, union\n",
            "\n",
            "\n",
            "The following object is masked from ‘package:XVector’:\n",
            "\n",
            "    slice\n",
            "\n",
            "\n",
            "The following object is masked from ‘package:Biobase’:\n",
            "\n",
            "    combine\n",
            "\n",
            "\n",
            "The following object is masked from ‘package:matrixStats’:\n",
            "\n",
            "    count\n",
            "\n",
            "\n",
            "The following objects are masked from ‘package:GenomicRanges’:\n",
            "\n",
            "    intersect, setdiff, union\n",
            "\n",
            "\n",
            "The following object is masked from ‘package:GenomeInfoDb’:\n",
            "\n",
            "    intersect\n",
            "\n",
            "\n",
            "The following objects are masked from ‘package:IRanges’:\n",
            "\n",
            "    collapse, desc, intersect, setdiff, slice, union\n",
            "\n",
            "\n",
            "The following objects are masked from ‘package:S4Vectors’:\n",
            "\n",
            "    first, intersect, rename, setdiff, setequal, union\n",
            "\n",
            "\n",
            "The following objects are masked from ‘package:dbplyr’:\n",
            "\n",
            "    ident, sql\n",
            "\n",
            "\n",
            "The following objects are masked from ‘package:BiocGenerics’:\n",
            "\n",
            "    combine, intersect, setdiff, union\n",
            "\n",
            "\n",
            "The following objects are masked from ‘package:stats’:\n",
            "\n",
            "    filter, lag\n",
            "\n",
            "\n",
            "The following objects are masked from ‘package:base’:\n",
            "\n",
            "    intersect, setdiff, setequal, union\n",
            "\n",
            "\n",
            "Loading required package: caret\n",
            "\n",
            "Loading required package: lattice\n",
            "\n",
            "Loading required package: ggplot2\n",
            "\n",
            "Warning message in system(\"timedatectl\", intern = TRUE):\n",
            "“running command 'timedatectl' had status 1”\n",
            "Loading required package: glmnet\n",
            "\n",
            "Loading required package: Matrix\n",
            "\n",
            "\n",
            "Attaching package: ‘Matrix’\n",
            "\n",
            "\n",
            "The following object is masked from ‘package:S4Vectors’:\n",
            "\n",
            "    expand\n",
            "\n",
            "\n",
            "Loaded glmnet 4.1-1\n",
            "\n",
            "Parallelisation schema set up\n",
            "\n"
          ],
          "name": "stderr"
        },
        {
          "output_type": "stream",
          "text": [
            "Aggregating results\n",
            "Selecting tuning parameters\n",
            "Fitting alpha = 0.1, lambda = 1 on full training set\n"
          ],
          "name": "stdout"
        },
        {
          "output_type": "stream",
          "text": [
            "Warning message in lognet(xd, is.sparse, ix, jx, y, weights, offset, alpha, nobs, :\n",
            "“one multinomial or binomial class has fewer than 8  observations; dangerous ground”\n",
            "Retrieving Nonzero Coefficients\n",
            "\n"
          ],
          "name": "stderr"
        }
      ]
    },
    {
      "cell_type": "markdown",
      "metadata": {
        "id": "yN2HkCVE2FbO"
      },
      "source": [
        "# (5) deconvolution\n",
        "\n",
        "Perform deconvolutions of Houseman, RPC, CBS and MethylResolver methods, with different feature selection."
      ]
    },
    {
      "cell_type": "code",
      "metadata": {
        "colab": {
          "base_uri": "https://localhost:8080/"
        },
        "id": "NI8ui2FIqYFf",
        "outputId": "c7226891-25b4-4459-a569-5e189dbc0d5a"
      },
      "source": [
        "\n",
        "Houseman_res_1 <- Houseman_project(benchmark_betamatrix, compTable_EPIC, probe_1)\n",
        "RPC_res_1 <- RPC(benchmark_betamatrix, compTable_EPIC, probe_1)\n",
        "CBS_res_1 <- CBS(benchmark_betamatrix, compTable_EPIC, probe_1)\n",
        "MethylResolver_res_1 <- MethylResolver(benchmark_betamatrix, compTable_EPIC, probe_1)\n"
      ],
      "execution_count": 11,
      "outputs": [
        {
          "output_type": "stream",
          "text": [
            "1\n",
            "\n",
            "2\n",
            "\n",
            "3\n",
            "\n",
            "\n",
            "Attaching package: ‘robustbase’\n",
            "\n",
            "\n",
            "The following object is masked from ‘package:Biobase’:\n",
            "\n",
            "    rowMedians\n",
            "\n",
            "\n",
            "The following objects are masked from ‘package:MatrixGenerics’:\n",
            "\n",
            "    colMedians, rowMedians\n",
            "\n",
            "\n",
            "The following objects are masked from ‘package:matrixStats’:\n",
            "\n",
            "    colMedians, rowMedians\n",
            "\n",
            "\n",
            "\n",
            "Attaching package: ‘Metrics’\n",
            "\n",
            "\n",
            "The following objects are masked from ‘package:caret’:\n",
            "\n",
            "    precision, recall\n",
            "\n",
            "\n"
          ],
          "name": "stderr"
        },
        {
          "output_type": "stream",
          "text": [
            "[1] 1\n",
            "[1] \"alphaBest selected\"\n",
            "[1] 0.05508248 0.05507204 0.05507570 0.05509487 0.05509026 0.05509137 0.05509410\n",
            "[8] 0.05508584 0.05508970\n",
            "[1] 0.55\n",
            "[1] 2\n",
            "[1] \"alphaBest selected\"\n",
            "[1] 0.04192513 0.04349469 0.04451167 0.04439322 0.04400922 0.04436661 0.04374036\n",
            "[8] 0.04345981 0.04333573\n",
            "[1] 0.5\n",
            "[1] 3\n",
            "[1] \"alphaBest selected\"\n",
            "[1] 0.03802537 0.03906080 0.03912781 0.03934741 0.03903051 0.03886428 0.03933093\n",
            "[8] 0.03943758 0.03887711\n",
            "[1] 0.5\n",
            "[1] 4\n",
            "[1] \"alphaBest selected\"\n",
            "[1] 0.04564621 0.04530686 0.04615942 0.04559055 0.04553041 0.04638578 0.04597238\n",
            "[8] 0.04551796 0.04558771\n",
            "[1] 0.55\n",
            "[1] 5\n",
            "[1] \"alphaBest selected\"\n",
            "[1] 0.05445251 0.05444441 0.05442431 0.05442021 0.05441806 0.05442301 0.05442883\n",
            "[8] 0.05441287 0.05442818\n",
            "[1] 0.85\n",
            "[1] 6\n",
            "[1] \"alphaBest selected\"\n",
            "[1] 0.04200051 0.04198602 0.04197642 0.04201072 0.04210090 0.04194711 0.04192362\n",
            "[8] 0.04198411 0.04209428\n",
            "[1] 0.8\n",
            "[1] 7\n",
            "[1] \"alphaBest selected\"\n",
            "[1] 0.05394742 0.05398797 0.05404953 0.05402818 0.05395622 0.05392521 0.05397197\n",
            "[8] 0.05394315 0.05394029\n",
            "[1] 0.75\n",
            "[1] 8\n",
            "[1] \"alphaBest selected\"\n",
            "[1] 0.04355999 0.04405976 0.04415843 0.04384696 0.04389801 0.04396888 0.04398087\n",
            "[8] 0.04398087 0.04397958\n",
            "[1] 0.5\n",
            "[1] 9\n",
            "[1] \"alphaBest selected\"\n",
            "[1] 0.03859552 0.03878646 0.03886650 0.03883627 0.03859649 0.03864626 0.03872499\n",
            "[8] 0.03876929 0.03883954\n",
            "[1] 0.5\n",
            "[1] 10\n",
            "[1] \"alphaBest selected\"\n",
            "[1] 0.05406668 0.05408269 0.05404061 0.05400994 0.05401416 0.05398362 0.05395125\n",
            "[8] 0.05395996 0.05397913\n",
            "[1] 0.8\n",
            "[1] 11\n",
            "[1] \"alphaBest selected\"\n",
            "[1] 0.05292720 0.05292089 0.05292846 0.05293417 0.05287317 0.05290037 0.05290037\n",
            "[8] 0.05290101 0.05291533\n",
            "[1] 0.7\n",
            "[1] 12\n",
            "[1] \"alphaBest selected\"\n",
            "[1] 0.05024587 0.05027670 0.05024605 0.05023931 0.05022956 0.05023099 0.05022860\n",
            "[8] 0.05023066 0.05021909\n",
            "[1] 0.9\n",
            "[1] \"completed\"\n",
            "\n",
            "Completed LTS Deconvolution For This Mixture...\n"
          ],
          "name": "stdout"
        }
      ]
    },
    {
      "cell_type": "code",
      "metadata": {
        "colab": {
          "base_uri": "https://localhost:8080/"
        },
        "id": "fTtY6Qils6Qt",
        "outputId": "932e4624-ba38-4015-a71e-7778f3493261"
      },
      "source": [
        "Houseman_res_6 <- Houseman_project(benchmark_betamatrix, compTable_EPIC, probe_6)\n",
        "RPC_res_6 <- RPC(benchmark_betamatrix, compTable_EPIC, probe_6)\n",
        "CBS_res_6 <- CBS(benchmark_betamatrix, compTable_EPIC, probe_6)\n",
        "MethylResolver_res_6 <- MethylResolver(benchmark_betamatrix, compTable_EPIC, probe_6)"
      ],
      "execution_count": 12,
      "outputs": [
        {
          "output_type": "stream",
          "text": [
            "1\n",
            "\n",
            "2\n",
            "\n",
            "3\n",
            "\n"
          ],
          "name": "stderr"
        },
        {
          "output_type": "stream",
          "text": [
            "[1] 1\n",
            "[1] \"alphaBest selected\"\n",
            "[1] 0.05376215 0.05395806 0.05398763 0.05387069 0.05389611 0.05389864 0.05388578\n",
            "[8] 0.05393802 0.05390048\n",
            "[1] 0.5\n",
            "[1] 2\n",
            "[1] \"alphaBest selected\"\n",
            "[1] 0.03794143 0.03827959 0.03815682 0.03812449 0.03807150 0.03810474 0.03840652\n",
            "[8] 0.03848158 0.03848187\n",
            "[1] 0.5\n",
            "[1] 3\n",
            "[1] \"alphaBest selected\"\n",
            "[1] 0.03618698 0.03599202 0.03618319 0.03593550 0.03591050 0.03593716 0.03586611\n",
            "[8] 0.03583529 0.03595703\n",
            "[1] 0.85\n",
            "[1] 4\n",
            "[1] \"alphaBest selected\"\n",
            "[1] 0.04117733 0.04133548 0.04122502 0.04121989 0.04083198 0.04082063 0.04080749\n",
            "[8] 0.04080553 0.04127248\n",
            "[1] 0.85\n",
            "[1] 5\n",
            "[1] \"alphaBest selected\"\n",
            "[1] 0.04880960 0.04918045 0.04915029 0.04909716 0.04916232 0.04905097 0.04909943\n",
            "[8] 0.04916152 0.04919327\n",
            "[1] 0.5\n",
            "[1] 6\n",
            "[1] \"alphaBest selected\"\n",
            "[1] 0.03902027 0.03926992 0.03927227 0.03920879 0.03919298 0.03886752 0.03963868\n",
            "[8] 0.03933480 0.03930733\n",
            "[1] 0.75\n",
            "[1] 7\n",
            "[1] \"alphaBest selected\"\n",
            "[1] 0.04893634 0.04901867 0.04947321 0.04923036 0.04910791 0.04853142 0.04863115\n",
            "[8] 0.04876173 0.04870682\n",
            "[1] 0.75\n",
            "[1] 8\n",
            "[1] \"alphaBest selected\"\n",
            "[1] 0.04228236 0.04228269 0.04230499 0.04225532 0.04227793 0.04218512 0.04199575\n",
            "[8] 0.04193567 0.04186027\n",
            "[1] 0.9\n",
            "[1] 9\n",
            "[1] \"alphaBest selected\"\n",
            "[1] 0.03663659 0.03776954 0.03795298 0.03814153 0.03752049 0.03735974 0.03762422\n",
            "[8] 0.03744931 0.03730189\n",
            "[1] 0.5\n",
            "[1] 10\n",
            "[1] \"alphaBest selected\"\n",
            "[1] 0.05112845 0.05113500 0.05132588 0.05122189 0.05123349 0.05119232 0.05121000\n",
            "[8] 0.05121578 0.05121578\n",
            "[1] 0.5\n",
            "[1] 11\n",
            "[1] \"alphaBest selected\"\n",
            "[1] 0.05010343 0.05015908 0.05025647 0.05022007 0.05022800 0.05012718 0.05004653\n",
            "[8] 0.05008434 0.05016790\n",
            "[1] 0.8\n",
            "[1] 12\n",
            "[1] \"alphaBest selected\"\n",
            "[1] 0.04859600 0.04856589 0.04858974 0.04864122 0.04862788 0.04860220 0.04860220\n",
            "[8] 0.04861540 0.04863847\n",
            "[1] 0.55\n",
            "[1] \"completed\"\n",
            "\n",
            "Completed LTS Deconvolution For This Mixture...\n"
          ],
          "name": "stdout"
        }
      ]
    },
    {
      "cell_type": "code",
      "metadata": {
        "colab": {
          "base_uri": "https://localhost:8080/",
          "height": 469
        },
        "id": "SC3TFp-8qm2u",
        "outputId": "7bcf30cd-bfa0-4bb0-83da-8f86607bbc4f"
      },
      "source": [
        "MethylResolver_res_1"
      ],
      "execution_count": 13,
      "outputs": [
        {
          "output_type": "display_data",
          "data": {
            "text/plain": [
              "                    Bcell       CD4T       CD8T       Mono       Neu      \n",
              "201868590193_R01C01 0.190842308 0.05551549 0.18263370 0.20006402 0.2138831\n",
              "201868590243_R02C01 0.043587326 0.15890090 0.03958028 0.05702447 0.6713782\n",
              "201868590267_R01C01 0.008729307 0.06158033 0.04226674 0.09108054 0.7959607\n",
              "201868590267_R05C01 0.022520078 0.16917504 0.11422095 0.08929023 0.5755962\n",
              "201869680008_R01C01 0.075234720 0.14373368 0.27221714 0.22218392 0.1199393\n",
              "201869680008_R03C01 0.021706454 0.14580273 0.08441520 0.07361580 0.6406307\n",
              "201869680008_R06C01 0.077531393 0.03395583 0.31517411 0.19514844 0.2425810\n",
              "201869680030_R03C01 0.063403993 0.12217746 0.05719451 0.05486810 0.6234078\n",
              "201869680030_R07C01 0.022359557 0.13416360 0.03029480 0.06393425 0.7027425\n",
              "201870610056_R01C01 0.197099369 0.10844974 0.18486146 0.10859620 0.1705062\n",
              "201870610056_R03C01 0.253100944 0.17415369 0.12995440 0.21807085 0.0702554\n",
              "201870610111_R03C01 0.160837863 0.12054982 0.11412006 0.22868039 0.2546014\n",
              "                    NK          \n",
              "201868590193_R01C01 0.1570613485\n",
              "201868590243_R02C01 0.0295288610\n",
              "201868590267_R01C01 0.0003823633\n",
              "201868590267_R05C01 0.0291975150\n",
              "201869680008_R01C01 0.1666912587\n",
              "201869680008_R03C01 0.0338291280\n",
              "201869680008_R06C01 0.1356092677\n",
              "201869680030_R03C01 0.0789481146\n",
              "201869680030_R07C01 0.0465052786\n",
              "201870610056_R01C01 0.2304870526\n",
              "201870610056_R03C01 0.1544647055\n",
              "201870610111_R03C01 0.1212105142"
            ],
            "text/latex": "A data.frame: 12 × 6\n\\begin{tabular}{r|llllll}\n  & Bcell & CD4T & CD8T & Mono & Neu & NK\\\\\n  & <dbl> & <dbl> & <dbl> & <dbl> & <dbl> & <dbl>\\\\\n\\hline\n\t201868590193\\_R01C01 & 0.190842308 & 0.05551549 & 0.18263370 & 0.20006402 & 0.2138831 & 0.1570613485\\\\\n\t201868590243\\_R02C01 & 0.043587326 & 0.15890090 & 0.03958028 & 0.05702447 & 0.6713782 & 0.0295288610\\\\\n\t201868590267\\_R01C01 & 0.008729307 & 0.06158033 & 0.04226674 & 0.09108054 & 0.7959607 & 0.0003823633\\\\\n\t201868590267\\_R05C01 & 0.022520078 & 0.16917504 & 0.11422095 & 0.08929023 & 0.5755962 & 0.0291975150\\\\\n\t201869680008\\_R01C01 & 0.075234720 & 0.14373368 & 0.27221714 & 0.22218392 & 0.1199393 & 0.1666912587\\\\\n\t201869680008\\_R03C01 & 0.021706454 & 0.14580273 & 0.08441520 & 0.07361580 & 0.6406307 & 0.0338291280\\\\\n\t201869680008\\_R06C01 & 0.077531393 & 0.03395583 & 0.31517411 & 0.19514844 & 0.2425810 & 0.1356092677\\\\\n\t201869680030\\_R03C01 & 0.063403993 & 0.12217746 & 0.05719451 & 0.05486810 & 0.6234078 & 0.0789481146\\\\\n\t201869680030\\_R07C01 & 0.022359557 & 0.13416360 & 0.03029480 & 0.06393425 & 0.7027425 & 0.0465052786\\\\\n\t201870610056\\_R01C01 & 0.197099369 & 0.10844974 & 0.18486146 & 0.10859620 & 0.1705062 & 0.2304870526\\\\\n\t201870610056\\_R03C01 & 0.253100944 & 0.17415369 & 0.12995440 & 0.21807085 & 0.0702554 & 0.1544647055\\\\\n\t201870610111\\_R03C01 & 0.160837863 & 0.12054982 & 0.11412006 & 0.22868039 & 0.2546014 & 0.1212105142\\\\\n\\end{tabular}\n",
            "text/markdown": "\nA data.frame: 12 × 6\n\n| <!--/--> | Bcell &lt;dbl&gt; | CD4T &lt;dbl&gt; | CD8T &lt;dbl&gt; | Mono &lt;dbl&gt; | Neu &lt;dbl&gt; | NK &lt;dbl&gt; |\n|---|---|---|---|---|---|---|\n| 201868590193_R01C01 | 0.190842308 | 0.05551549 | 0.18263370 | 0.20006402 | 0.2138831 | 0.1570613485 |\n| 201868590243_R02C01 | 0.043587326 | 0.15890090 | 0.03958028 | 0.05702447 | 0.6713782 | 0.0295288610 |\n| 201868590267_R01C01 | 0.008729307 | 0.06158033 | 0.04226674 | 0.09108054 | 0.7959607 | 0.0003823633 |\n| 201868590267_R05C01 | 0.022520078 | 0.16917504 | 0.11422095 | 0.08929023 | 0.5755962 | 0.0291975150 |\n| 201869680008_R01C01 | 0.075234720 | 0.14373368 | 0.27221714 | 0.22218392 | 0.1199393 | 0.1666912587 |\n| 201869680008_R03C01 | 0.021706454 | 0.14580273 | 0.08441520 | 0.07361580 | 0.6406307 | 0.0338291280 |\n| 201869680008_R06C01 | 0.077531393 | 0.03395583 | 0.31517411 | 0.19514844 | 0.2425810 | 0.1356092677 |\n| 201869680030_R03C01 | 0.063403993 | 0.12217746 | 0.05719451 | 0.05486810 | 0.6234078 | 0.0789481146 |\n| 201869680030_R07C01 | 0.022359557 | 0.13416360 | 0.03029480 | 0.06393425 | 0.7027425 | 0.0465052786 |\n| 201870610056_R01C01 | 0.197099369 | 0.10844974 | 0.18486146 | 0.10859620 | 0.1705062 | 0.2304870526 |\n| 201870610056_R03C01 | 0.253100944 | 0.17415369 | 0.12995440 | 0.21807085 | 0.0702554 | 0.1544647055 |\n| 201870610111_R03C01 | 0.160837863 | 0.12054982 | 0.11412006 | 0.22868039 | 0.2546014 | 0.1212105142 |\n\n",
            "text/html": [
              "<table class=\"dataframe\">\n",
              "<caption>A data.frame: 12 × 6</caption>\n",
              "<thead>\n",
              "\t<tr><th></th><th scope=col>Bcell</th><th scope=col>CD4T</th><th scope=col>CD8T</th><th scope=col>Mono</th><th scope=col>Neu</th><th scope=col>NK</th></tr>\n",
              "\t<tr><th></th><th scope=col>&lt;dbl&gt;</th><th scope=col>&lt;dbl&gt;</th><th scope=col>&lt;dbl&gt;</th><th scope=col>&lt;dbl&gt;</th><th scope=col>&lt;dbl&gt;</th><th scope=col>&lt;dbl&gt;</th></tr>\n",
              "</thead>\n",
              "<tbody>\n",
              "\t<tr><th scope=row>201868590193_R01C01</th><td>0.190842308</td><td>0.05551549</td><td>0.18263370</td><td>0.20006402</td><td>0.2138831</td><td>0.1570613485</td></tr>\n",
              "\t<tr><th scope=row>201868590243_R02C01</th><td>0.043587326</td><td>0.15890090</td><td>0.03958028</td><td>0.05702447</td><td>0.6713782</td><td>0.0295288610</td></tr>\n",
              "\t<tr><th scope=row>201868590267_R01C01</th><td>0.008729307</td><td>0.06158033</td><td>0.04226674</td><td>0.09108054</td><td>0.7959607</td><td>0.0003823633</td></tr>\n",
              "\t<tr><th scope=row>201868590267_R05C01</th><td>0.022520078</td><td>0.16917504</td><td>0.11422095</td><td>0.08929023</td><td>0.5755962</td><td>0.0291975150</td></tr>\n",
              "\t<tr><th scope=row>201869680008_R01C01</th><td>0.075234720</td><td>0.14373368</td><td>0.27221714</td><td>0.22218392</td><td>0.1199393</td><td>0.1666912587</td></tr>\n",
              "\t<tr><th scope=row>201869680008_R03C01</th><td>0.021706454</td><td>0.14580273</td><td>0.08441520</td><td>0.07361580</td><td>0.6406307</td><td>0.0338291280</td></tr>\n",
              "\t<tr><th scope=row>201869680008_R06C01</th><td>0.077531393</td><td>0.03395583</td><td>0.31517411</td><td>0.19514844</td><td>0.2425810</td><td>0.1356092677</td></tr>\n",
              "\t<tr><th scope=row>201869680030_R03C01</th><td>0.063403993</td><td>0.12217746</td><td>0.05719451</td><td>0.05486810</td><td>0.6234078</td><td>0.0789481146</td></tr>\n",
              "\t<tr><th scope=row>201869680030_R07C01</th><td>0.022359557</td><td>0.13416360</td><td>0.03029480</td><td>0.06393425</td><td>0.7027425</td><td>0.0465052786</td></tr>\n",
              "\t<tr><th scope=row>201870610056_R01C01</th><td>0.197099369</td><td>0.10844974</td><td>0.18486146</td><td>0.10859620</td><td>0.1705062</td><td>0.2304870526</td></tr>\n",
              "\t<tr><th scope=row>201870610056_R03C01</th><td>0.253100944</td><td>0.17415369</td><td>0.12995440</td><td>0.21807085</td><td>0.0702554</td><td>0.1544647055</td></tr>\n",
              "\t<tr><th scope=row>201870610111_R03C01</th><td>0.160837863</td><td>0.12054982</td><td>0.11412006</td><td>0.22868039</td><td>0.2546014</td><td>0.1212105142</td></tr>\n",
              "</tbody>\n",
              "</table>\n"
            ]
          },
          "metadata": {
            "tags": []
          }
        }
      ]
    },
    {
      "cell_type": "markdown",
      "metadata": {
        "id": "gZzaE55s2mqk"
      },
      "source": [
        "# Performance evaluation\n",
        "\n",
        "Compute the within sample correalations with true proportions; average over samples."
      ]
    },
    {
      "cell_type": "code",
      "metadata": {
        "id": "XkleuLvDq3Hp"
      },
      "source": [
        "within_sample_corr <- function(true_proportions, deconv_res){\n",
        "  corr <- rep(NA, 12)\n",
        "  for (i in 1:12){\n",
        "    corr[i] <- cor(as.numeric(true_proportions[i,c(\"Bcell\", \"CD4T\",\"CD8T\",\"Mono\",\"Neu\",\"NK\")]),\n",
        "                   as.numeric(deconv_res[i,c(\"Bcell\", \"CD4T\",\"CD8T\",\"Mono\",\"Neu\",\"NK\")]), method = \"spearman\")\n",
        "  }\n",
        "  print(mean(corr))\n",
        "  return(mean(corr))\n",
        "}\n"
      ],
      "execution_count": 14,
      "outputs": []
    },
    {
      "cell_type": "code",
      "metadata": {
        "colab": {
          "base_uri": "https://localhost:8080/"
        },
        "id": "D9nfHYJYuvKp",
        "outputId": "6fd79ffd-0f0e-44b7-834b-a6402550c99c"
      },
      "source": [
        "cor_Houseman_1 <- within_sample_corr(benchmark_trueprop, Houseman_res_1)\n",
        "cor_RPC_1 <-within_sample_corr(benchmark_trueprop, RPC_res_1)\n",
        "cor_CBS_1 <- within_sample_corr(benchmark_trueprop, CBS_res_1)\n",
        "cor_MethylResolver_1 <- within_sample_corr(benchmark_trueprop, MethylResolver_res_1)"
      ],
      "execution_count": 15,
      "outputs": [
        {
          "output_type": "stream",
          "text": [
            "[1] 0.9783402\n",
            "[1] 0.9783402\n",
            "[1] 0.9562116\n",
            "[1] 0.9783402\n"
          ],
          "name": "stdout"
        }
      ]
    },
    {
      "cell_type": "code",
      "metadata": {
        "colab": {
          "base_uri": "https://localhost:8080/"
        },
        "id": "cHiH_GAJuwSj",
        "outputId": "360d67bb-0dfa-4d5b-c7f4-5c6fc77a17f2"
      },
      "source": [
        "cor_Houseman_6 <- within_sample_corr(benchmark_trueprop, Houseman_res_6)\n",
        "cor_RPC_6 <- within_sample_corr(benchmark_trueprop, RPC_res_6)\n",
        "cor_CBS_6 <- within_sample_corr(benchmark_trueprop, CBS_res_6)\n",
        "cor_MethylResolver_6 <- within_sample_corr(benchmark_trueprop, MethylResolver_res_6)"
      ],
      "execution_count": 16,
      "outputs": [
        {
          "output_type": "stream",
          "text": [
            "[1] 0.9472836\n",
            "[1] 0.9377597\n",
            "[1] 0.9497688\n",
            "[1] 0.9200058\n"
          ],
          "name": "stdout"
        }
      ]
    },
    {
      "cell_type": "markdown",
      "metadata": {
        "id": "NKTM4xWP26vj"
      },
      "source": [
        "### barplots"
      ]
    },
    {
      "cell_type": "code",
      "metadata": {
        "colab": {
          "base_uri": "https://localhost:8080/",
          "height": 675
        },
        "id": "kfquriTlxhui",
        "outputId": "eed0eb82-5ff4-47b6-b90b-d84a4d7ba9a1"
      },
      "source": [
        "library(tidyr)\n",
        "library(ggplot2)\n",
        "\n",
        "cor_Houseman <- c(cor_Houseman_1, cor_Houseman_6)\n",
        "cor_RPC <- c(cor_RPC_1, cor_RPC_6)\n",
        "cor_CBS <- c(cor_CBS_1, cor_CBS_6)\n",
        "cor_MethylResolver <- c(cor_MethylResolver_1, cor_MethylResolver_6)\n",
        "\n",
        "\n",
        "df1 <- data.frame(FeatureSelection = c(\"oneVsAllttest\",\"glmnetpreselect\"),\n",
        "                  Houseman = cor_Houseman, RPC = cor_RPC, CBS = cor_CBS, MethylResolver = cor_MethylResolver)\n",
        "\n",
        "print(ggplot(data = df1 %>% gather(Deconvolution, Spearman_Correlation, -FeatureSelection),\n",
        "       aes(x = factor(FeatureSelection, level = c(\"oneVsAllttest\", \"glmnetpreselect\")), y = Spearman_Correlation, fill = Deconvolution)) +\n",
        "  geom_bar(stat = 'identity', position = 'dodge')+\n",
        "  geom_text(aes(label= round(Spearman_Correlation,2)), position = position_dodge(0.9))+\n",
        "  labs(x = \"Feature selection\")+\n",
        "  labs(y = \"Average Spearman correlation\")+\n",
        "  labs(fill = \"Deconvolution algorithms\"))"
      ],
      "execution_count": 17,
      "outputs": [
        {
          "output_type": "stream",
          "text": [
            "\n",
            "Attaching package: ‘tidyr’\n",
            "\n",
            "\n",
            "The following objects are masked from ‘package:Matrix’:\n",
            "\n",
            "    expand, pack, unpack\n",
            "\n",
            "\n",
            "The following object is masked from ‘package:S4Vectors’:\n",
            "\n",
            "    expand\n",
            "\n",
            "\n"
          ],
          "name": "stderr"
        },
        {
          "output_type": "display_data",
          "data": {
            "image/png": "[encoded data removed]",
            "text/plain": [
              "plot without title"
            ]
          },
          "metadata": {
            "tags": [],
            "image/png": {
              "width": 420,
              "height": 420
            }
          }
        }
      ]
    }
  ]
}